{
 "cells": [
  {
   "cell_type": "code",
   "execution_count": null,
   "id": "85c49692",
   "metadata": {},
   "outputs": [],
   "source": [
    "from pathlib import Path\n",
    "\n",
    "import cantera\n",
    "import polars\n",
    "from cantera.ck2yaml import Parser\n",
    "\n",
    "from cantera_helper.reactors import jsr\n",
    "\n",
    "# >> Configure these parameters as needed: <<\n",
    "# Required files:\n",
    "concentrations_file = \"concentrations.csv\"  # Concentrations spreadsheet\n",
    "species_file = \"species.csv\"\n",
    "chemkin_file = \"chem.inp\"  # Chemkin mechanism\n",
    "thermo_file = \"thermo.dat\"\n",
    "# Generated files:\n",
    "cantera_file = Path(chemkin_file).with_suffix(\".yaml\")  # Cantera mechanism\n",
    "results_file = \"results.csv\"  # Results will be written to this file\n",
    "# Conditions / other parameters:\n",
    "T = 825  # Temperature (K)\n",
    "P = 1.1  # Pressure (atm)\n",
    "residence_time = 2  # Residence time (s)\n",
    "volume = 1  # Volume (cm^3)\n",
    "run_every = 15  # Run every nth concentration for testing\n",
    "# run_every = 1  # (Set this to 1 for the actual simulation)"
   ]
  },
  {
   "cell_type": "code",
   "execution_count": 2,
   "id": "5b2ef8ff",
   "metadata": {},
   "outputs": [
    {
     "name": "stdout",
     "output_type": "stream",
     "text": [
      "Reading in concentrations from concentrations.csv\n"
     ]
    }
   ],
   "source": [
    "# Read in concentrations\n",
    "print(f\"Reading in concentrations from {concentrations_file}\")\n",
    "concs_df = polars.read_csv(concentrations_file)\n",
    "concs_df = concs_df.gather_every(run_every)\n",
    "conc_dcts = concs_df.select(\"fuel\", \"O2\", \"N2\").to_dicts()"
   ]
  },
  {
   "cell_type": "code",
   "execution_count": 3,
   "id": "874f2d27",
   "metadata": {},
   "outputs": [
    {
     "name": "stdout",
     "output_type": "stream",
     "text": [
      "Reading in species from species.csv\n"
     ]
    }
   ],
   "source": [
    "# Read in species\n",
    "print(f\"Reading in species from {species_file}\")\n",
    "species_df = polars.read_csv(species_file)\n",
    "species_dct = {k: v for k, v in species_df.select([\"species\", \"name\"]).iter_rows()}"
   ]
  },
  {
   "cell_type": "code",
   "execution_count": 4,
   "id": "054ede31",
   "metadata": {},
   "outputs": [],
   "source": [
    "conc_dcts = [{species_dct[k]: v for k, v in c.items()} for c in conc_dcts]\n",
    "species_dct = {k: v for k, v in species_dct.items() if k not in [\"fuel\", \"O2\", \"N2\"]}"
   ]
  },
  {
   "cell_type": "code",
   "execution_count": 5,
   "id": "ad2939bf",
   "metadata": {},
   "outputs": [
    {
     "name": "stdout",
     "output_type": "stream",
     "text": [
      "Simulations will be run at the following conditions...\n",
      "  C5H8(522):   0.005000  O2(6):   0.005833  N2:   0.989167\n",
      "  C5H8(522):   0.005000  O2(6):   0.087500  N2:   0.907500\n"
     ]
    }
   ],
   "source": [
    "# Determine N2, O2, fuel names\n",
    "print(\"Simulations will be run at the following conditions...\")\n",
    "for conc_dct in conc_dcts:\n",
    "    for name, conc_dct in conc_dct.items():\n",
    "        print(f\"  {name}: {conc_dct:10.6f}\", end=\"\")\n",
    "    print()"
   ]
  },
  {
   "cell_type": "code",
   "execution_count": 6,
   "id": "d4421683",
   "metadata": {},
   "outputs": [
    {
     "name": "stdout",
     "output_type": "stream",
     "text": [
      "Data will be collected for the following species...\n",
      "  CO: CO(12)\n",
      "  CO2: CO2(13)\n",
      "  CH4: CH4(33)\n",
      "  H2: H2(2)\n",
      "  oxygen: O2(6)\n",
      "  ethene: C2H4(52)\n",
      "  formaldehyde: CH2O(19)\n",
      "  propene: C3H6(131)\n",
      "  water: H2O(5)\n",
      "  propadiene (allene): C3H4(114)\n",
      "  acetaldehyde: CH3CHO(41)\n",
      "  1,3-butadiene: C4H6(227)\n",
      "  1-butene: C4H8(253)\n",
      "  acrolein: C3H4O(165)\n",
      "  propanal: C3H6O(126)\n",
      "  furan: S(1600)\n",
      "  cyclopentadiene: C5H6(478)\n",
      "  cyclopentene: C5H8(522)\n",
      "  cyclopentane: CPT(563)\n",
      "  crotonaldehyde (trans): C4H6O(357)\n",
      "  crotonaldehyde (cis): C4H6O(357)\n",
      "  benzene: C6H6(970)\n",
      "  1,2-epoxycyclopentane: C5H8O(825)\n",
      "  toluene: C7H8(1006)\n",
      "  cyclopentanone: CPN(801)\n",
      "  cyclopent-2-enone: CPND2(626)\n",
      "  3-methylfuran: S(1657)\n"
     ]
    }
   ],
   "source": [
    "# Print other species names\n",
    "print(\"Data will be collected for the following species...\")\n",
    "for species, name in species_dct.items():\n",
    "    print(f\"  {species}: {name}\")"
   ]
  },
  {
   "cell_type": "code",
   "execution_count": 7,
   "id": "1a51bc33",
   "metadata": {},
   "outputs": [
    {
     "name": "stdout",
     "output_type": "stream",
     "text": [
      "\n",
      "Converting ChemKin mechanism to Cantera YAML...\n"
     ]
    },
    {
     "name": "stdout",
     "output_type": "stream",
     "text": [
      "Wrote YAML mechanism file to 'chem.yaml'.\n",
      "Mechanism contains 2534 species and 10002 reactions.\n"
     ]
    },
    {
     "data": {
      "text/plain": [
       "(<cantera.ck2yaml.Parser at 0x76994953ecf0>, [])"
      ]
     },
     "execution_count": 7,
     "metadata": {},
     "output_type": "execute_result"
    }
   ],
   "source": [
    "# Read in ChemKin mechanism and convert to Cantera\n",
    "print(\"\\nConverting ChemKin mechanism to Cantera YAML...\")\n",
    "Parser.convert_mech(chemkin_file, thermo_file=thermo_file, out_name=cantera_file)"
   ]
  },
  {
   "cell_type": "code",
   "execution_count": 8,
   "id": "bd4c57cb",
   "metadata": {},
   "outputs": [
    {
     "name": "stdout",
     "output_type": "stream",
     "text": [
      "\n",
      "Defining model and conditions...\n"
     ]
    }
   ],
   "source": [
    "# Load mechanism and set initial conditions\n",
    "print(\"\\nDefining model and conditions...\")\n",
    "model = cantera.Solution(cantera_file)"
   ]
  },
  {
   "cell_type": "code",
   "execution_count": 9,
   "id": "6643492d",
   "metadata": {},
   "outputs": [
    {
     "name": "stdout",
     "output_type": "stream",
     "text": [
      "\n",
      "Running simulations...\n",
      "Starting simulation for {'C5H8(522)': 0.005, 'O2(6)': 0.005833333, 'N2': 0.989166667}\n",
      "Starting simulation for {'C5H8(522)': 0.005, 'O2(6)': 0.0875, 'N2': 0.9075}\n"
     ]
    }
   ],
   "source": [
    "# Run simulations for each point and store the results in an array\n",
    "print(\"\\nRunning simulations...\")\n",
    "\n",
    "\n",
    "def simulate(conc_dct: dict[str, float]) -> cantera.ReactorNet:  # pyright: ignore[reportAttributeAccessIssue]\n",
    "    \"\"\"Run simulation.\"\"\"\n",
    "    print(f\"Starting simulation for {conc_dct}\")\n",
    "    return jsr(\n",
    "        model=model,\n",
    "        T=T,\n",
    "        P=P,\n",
    "        residence_time=residence_time,\n",
    "        volume=volume,\n",
    "        concentrations=conc_dct,\n",
    "    )\n",
    "\n",
    "\n",
    "solutions = cantera.SolutionArray(model)\n",
    "for conc_dct in conc_dcts:\n",
    "    reactor = simulate(conc_dct)\n",
    "    solutions.append(reactor.thermo.state)"
   ]
  },
  {
   "cell_type": "code",
   "execution_count": 10,
   "id": "272cc85a",
   "metadata": {},
   "outputs": [
    {
     "name": "stdout",
     "output_type": "stream",
     "text": [
      "\n",
      "Extracting results...\n",
      "shape: (2, 31)\n",
      "┌─────┬──────────┬──────────┬───────┬───┬──────────┬───────────────┬───────────────┬───────────────┐\n",
      "│ phi ┆ O2       ┆ N2       ┆ fuel  ┆ … ┆ toluene  ┆ cyclopentanon ┆ cyclopent-2-e ┆ 3-methylfuran │\n",
      "│ --- ┆ ---      ┆ ---      ┆ ---   ┆   ┆ ---      ┆ e             ┆ none          ┆ ---           │\n",
      "│ f64 ┆ f64      ┆ f64      ┆ f64   ┆   ┆ f64      ┆ ---           ┆ ---           ┆ f64           │\n",
      "│     ┆          ┆          ┆       ┆   ┆          ┆ f64           ┆ f64           ┆               │\n",
      "╞═════╪══════════╪══════════╪═══════╪═══╪══════════╪═══════════════╪═══════════════╪═══════════════╡\n",
      "│ 6.0 ┆ 0.005833 ┆ 0.989167 ┆ 0.005 ┆ … ┆ 0.000032 ┆ 0.00172       ┆ 0.114572      ┆ 8.6833e-7     │\n",
      "│ 0.4 ┆ 0.0875   ┆ 0.9075   ┆ 0.005 ┆ … ┆ 0.000934 ┆ 0.388524      ┆ 27.6619       ┆ 0.000564      │\n",
      "└─────┴──────────┴──────────┴───────┴───┴──────────┴───────────────┴───────────────┴───────────────┘\n"
     ]
    }
   ],
   "source": [
    "# Extract results\n",
    "print(\"\\nExtracting results...\")\n",
    "results_df = concs_df.with_columns(\n",
    "    polars.Series(species, solutions(name).X.flatten() * 10**6)\n",
    "    for species, name in species_dct.items()\n",
    ")\n",
    "print(results_df)\n",
    "results_df.write_csv(results_file)"
   ]
  }
 ],
 "metadata": {
  "kernelspec": {
   "display_name": "default",
   "language": "python",
   "name": "python3"
  },
  "language_info": {
   "codemirror_mode": {
    "name": "ipython",
    "version": 3
   },
   "file_extension": ".py",
   "mimetype": "text/x-python",
   "name": "python",
   "nbconvert_exporter": "python",
   "pygments_lexer": "ipython3",
   "version": "3.13.1"
  }
 },
 "nbformat": 4,
 "nbformat_minor": 5
}
